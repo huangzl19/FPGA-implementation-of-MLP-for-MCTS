{
 "cells": [
  {
   "cell_type": "code",
   "execution_count": 2,
   "id": "35166d1d-c85d-4120-8326-16fe1b17aa38",
   "metadata": {},
   "outputs": [],
   "source": [
    "import numpy as np\n",
    "BSIZE = 16\n",
    "Dinput = 2\n",
    "L1 = 128\n",
    "L2 = 1\n",
    "P1 = 16\n",
    "P2 = 1"
   ]
  },
  {
   "cell_type": "code",
   "execution_count": 3,
   "id": "a815acef-bb32-4a79-974e-9c8e503230bc",
   "metadata": {},
   "outputs": [
    {
     "name": "stdout",
     "output_type": "stream",
     "text": [
      "output = \n",
      "[[1.        ]\n",
      " [1.        ]\n",
      " [1.        ]\n",
      " [1.        ]\n",
      " [0.9999688 ]\n",
      " [0.99999547]\n",
      " [1.        ]\n",
      " [1.        ]\n",
      " [1.        ]\n",
      " [0.99979657]\n",
      " [0.1532508 ]\n",
      " [1.        ]\n",
      " [1.        ]\n",
      " [0.9999967 ]\n",
      " [1.        ]\n",
      " [0.99999964]]\n",
      "<class 'numpy.float32'>\n",
      "input = \n",
      "[[ 1.7640524   0.4001572 ]\n",
      " [ 0.978738    2.2408931 ]\n",
      " [ 1.867558   -0.9772779 ]\n",
      " [ 0.95008844 -0.1513572 ]\n",
      " [-0.10321885  0.41059852]\n",
      " [ 0.14404356  1.4542735 ]\n",
      " [ 0.7610377   0.12167501]\n",
      " [ 0.44386324  0.33367434]\n",
      " [ 1.4940791  -0.20515826]\n",
      " [ 0.3130677  -0.85409576]\n",
      " [-2.5529897   0.6536186 ]\n",
      " [ 0.8644362  -0.742165  ]\n",
      " [ 2.2697546  -1.4543657 ]\n",
      " [ 0.04575852 -0.18718386]\n",
      " [ 1.5327792   1.4693588 ]\n",
      " [ 0.15494743  0.37816253]]\n"
     ]
    }
   ],
   "source": [
    "np.random.seed(0)\n",
    "input =  np.random.randn(BSIZE,Dinput).astype(np.float32)\n",
    "\n",
    "np.savetxt('datatest/input.txt', input, fmt=\"%f\", delimiter=\",\")\n",
    "\n",
    "weight1 = np.random.randn(Dinput, L1).astype(np.float32)\n",
    "bias1 = np.random.randn(1, L1).astype(np.float32)\n",
    "output1 = np.tanh(np.matmul(input,weight1) + bias1)\n",
    "#print(f\"weight1 = {weight1}\")\n",
    "#print(f\"bias1 = {bias1}\")\n",
    "np.savetxt('datatest/weight1.txt', weight1, fmt=\"%f\", delimiter=\",\")\n",
    "np.savetxt('datatest/bias1.txt', bias1, fmt=\"%f\", delimiter=\",\")\n",
    "np.savetxt('datatest/output1.txt', output1, fmt=\"%f\", delimiter=\",\")\n",
    "\n",
    "weight2 = np.random.randn(L1, L2).astype(np.float32)\n",
    "bias2 = np.random.randn(1, L2).astype(np.float32)\n",
    "output2 = np.tanh(np.matmul(output1,weight2) + bias2)\n",
    "np.savetxt('datatest/weight2.txt', weight2, fmt=\"%f\", delimiter=\",\")\n",
    "np.savetxt('datatest/bias2.txt', bias2, fmt=\"%f\", delimiter=\",\")\n",
    "np.savetxt('datatest/output2.txt', output2, fmt=\"%f\", delimiter=\",\")\n",
    "\n",
    "\n",
    "print(f\"output = \\n{output2}\")\n",
    "print(type(output2[0,0]))\n",
    "print(f\"input = \\n{input}\")"
   ]
  },
  {
   "cell_type": "code",
   "execution_count": 4,
   "id": "707815bc-3450-4866-ab7f-ae49e56dfbab",
   "metadata": {},
   "outputs": [],
   "source": [
    "def relu(input_vec):\n",
    "    input_vec[input_vec < 0] = 0;\n",
    "    return input_vec"
   ]
  },
  {
   "cell_type": "code",
   "execution_count": 5,
   "id": "a75f4be8-e123-4bd2-926b-eec59d74551a",
   "metadata": {},
   "outputs": [
    {
     "name": "stdout",
     "output_type": "stream",
     "text": [
      "[[-0.4438361   1.0781974 ]\n",
      " [-2.5591846   1.1813786 ]\n",
      " [-0.63190377  0.16392857]\n",
      " [ 0.09632136  0.9424681 ]]\n"
     ]
    }
   ],
   "source": [
    "test =  np.random.randn(4,Dinput).astype(np.float32)\n",
    "print(test)"
   ]
  },
  {
   "cell_type": "code",
   "execution_count": 6,
   "id": "5e78243d-e4bb-43ac-89ae-21fc99136ec9",
   "metadata": {},
   "outputs": [
    {
     "name": "stdout",
     "output_type": "stream",
     "text": [
      "output = \n",
      "[[ 3.4942298]\n",
      " [ 6.5274677]\n",
      " [11.171615 ]\n",
      " [ 7.689451 ]\n",
      " [ 3.61357  ]\n",
      " [ 4.32866  ]\n",
      " [ 6.468028 ]\n",
      " [ 3.6417713]\n",
      " [ 7.837618 ]\n",
      " [ 5.977829 ]\n",
      " [ 0.       ]\n",
      " [ 9.02427  ]\n",
      " [12.084412 ]\n",
      " [ 4.258851 ]\n",
      " [ 4.0144634]\n",
      " [ 3.308888 ]]\n",
      "mm2 = \n",
      "[[  3.8788753]\n",
      " [  6.912113 ]\n",
      " [ 11.55626  ]\n",
      " [  8.074097 ]\n",
      " [  3.9982154]\n",
      " [  4.7133055]\n",
      " [  6.8526735]\n",
      " [  4.026417 ]\n",
      " [  8.222263 ]\n",
      " [  6.3624744]\n",
      " [-14.312624 ]\n",
      " [  9.4089155]\n",
      " [ 12.469057 ]\n",
      " [  4.6434965]\n",
      " [  4.399109 ]\n",
      " [  3.6935334]]\n",
      "<class 'numpy.float32'>\n"
     ]
    }
   ],
   "source": [
    "np.random.seed(0)\n",
    "input =  np.random.randn(BSIZE,Dinput).astype(np.float32)\n",
    "\n",
    "np.savetxt('datatest/input.txt', input, fmt=\"%f\", delimiter=\",\")\n",
    "\n",
    "mm1 = np.matmul(input,weight1)\n",
    "outputrelu1 = relu(mm1 + bias1)\n",
    "mm2 = np.matmul(outputrelu1,weight2)\n",
    "outputrelu2 = relu(mm2 + bias2)\n",
    "#print(f\"weight1 = {weight1}\")\n",
    "#print(f\"bias1 = {bias1}\")\n",
    "\n",
    "\n",
    "np.savetxt('data/outputrelu1.txt', outputrelu1, fmt=\"%f\", delimiter=\",\")\n",
    "np.savetxt('data/outputrelu2.txt', outputrelu2, fmt=\"%f\", delimiter=\",\")\n",
    "np.savetxt('data/mm1.txt', mm1, fmt=\"%f\", delimiter=\",\")\n",
    "np.savetxt('data/mm2.txt', mm2, fmt=\"%f\", delimiter=\",\")\n",
    "\n",
    "\n",
    "print(f\"output = \\n{outputrelu2}\")\n",
    "print(f\"mm2 = \\n{mm2}\")\n",
    "print(type(outputrelu2[0,0]))"
   ]
  },
  {
   "cell_type": "code",
   "execution_count": null,
   "id": "d6a84c10-9449-46d3-9d01-1759d4c9b133",
   "metadata": {},
   "outputs": [],
   "source": []
  }
 ],
 "metadata": {
  "kernelspec": {
   "display_name": "Python 3",
   "language": "python",
   "name": "python3"
  },
  "language_info": {
   "codemirror_mode": {
    "name": "ipython",
    "version": 3
   },
   "file_extension": ".py",
   "mimetype": "text/x-python",
   "name": "python",
   "nbconvert_exporter": "python",
   "pygments_lexer": "ipython3",
   "version": "3.8.8"
  }
 },
 "nbformat": 4,
 "nbformat_minor": 5
}
